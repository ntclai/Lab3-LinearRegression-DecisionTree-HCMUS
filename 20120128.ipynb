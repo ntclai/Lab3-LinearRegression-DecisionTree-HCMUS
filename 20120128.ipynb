{
 "cells": [
  {
   "cell_type": "markdown",
   "metadata": {
    "id": "dw29NSYmFpyS"
   },
   "source": [
    "# Lab03: Linear Regression and Decision Tree.\n",
    "\n",
    "- Student ID: 20120128\n",
    "- Student name: Nguyễn Thị Cẩm Lai"
   ]
  },
  {
   "cell_type": "markdown",
   "metadata": {
    "id": "oHR1Zj5GFpyT"
   },
   "source": [
    "**How to do your homework**\n",
    "\n",
    "\n",
    "You will work directly on this notebook; the word `TODO` indicate the parts you need to do.\n",
    "\n",
    "You can discuss ideas with classmates as well as finding information from the internet, book, etc...; but *this homework must be your*.\n",
    "\n",
    "**How to submit your homework**\n",
    "\n",
    "Before submitting, rerun the notebook (`Kernel` ->` Restart & Run All`).\n",
    "\n",
    "Rename your notebook with `ID.ipynb` (for example, if your ID is 1234567, rename your notebook with `1234567.ipynb`) and submit it on moodle.\n",
    "\n",
    "**Contents:**\n",
    "\n",
    "- Linear Regression.\n",
    "- Decision Tree."
   ]
  },
  {
   "cell_type": "markdown",
   "metadata": {
    "id": "IFOYpg2nDxqE"
   },
   "source": [
    "## Linear Regression"
   ]
  },
  {
   "cell_type": "markdown",
   "metadata": {
    "id": "REHkv-y8FpyU"
   },
   "source": [
    "### 1. The hypothesis set"
   ]
  },
  {
   "cell_type": "markdown",
   "metadata": {
    "id": "e75OMY0KFpyU"
   },
   "source": [
    "- Linear regression is a **linear** model, e.g. a model that assumes a linear relationship between the input variables (x) and the single output variable (y). More specifically, that y can be calculated from a linear combination of the input variables (x).\n",
    "- Generally, a linear model will make predictions by calculating a weighted sum of the input features (independent variables). \n",
    "$$ \\hat{y}=w_0+w_1x_1+w_2x_2+...+w_nx_n $$\n",
    "    - $\\hat{y}$ is the predicted value.\n",
    "    - $n$ is the number of features.\n",
    "    - $x_i$ is the $i^{th}$ feature value.\n",
    "    - $w_j$ is the $j^{th}$ model parameter (including the bias term $w_0$ and the feature weights $w_1,w_2,...w_n)$.\n",
    "$$\\hat{y}=h_{\\mathbf{w}}\\left(\\mathbf{x}\\right)=\\mathbf{w}^{T}\\cdot\\mathbf{x}$$\n",
    "    - $\\mathbf{w}$ is the model **parameter vector** (including the bias term $w_0$ and the feature weights $w_1,w_2,...w_n$).\n",
    "    - $\\mathbf{w}^T$ is a transpose  of $\\mathbf{w}$ (a row vector insteade of column vector).\n",
    "    - $\\mathbf{x}$ is the instance's **feature vector**, *containing* $x_0$ to $x_n$, with $x_0$ *always equal to* 1.\n",
    "    - $\\mathbf{w}^{T}\\cdot\\mathbf{x}$ is the dot product of $\\mathbf{w}^T$ and $\\mathbf{x}$.\n",
    "    - $h_{\\mathbf{w}}$ is the hypothesis function, using the parameters $\\mathbf{w}$.\n",
    "![Bias](Bias.png)"
   ]
  },
  {
   "cell_type": "markdown",
   "metadata": {
    "id": "5l8F4lnjFpyV"
   },
   "source": [
    "### 2. Performance measure and the learning goal"
   ]
  },
  {
   "cell_type": "markdown",
   "metadata": {
    "id": "fdJNZ2q6FpyX"
   },
   "source": [
    "- Before we start to train the model, we need to determine how good the model fits the training data. There are a couple of ways to determine the level of quality, but we are going to use the most popular one and that is the **MSE** (Mean Square Error). We need to find the value for $\\mathbf{w}$ that will minimize the MSE:\n",
    "$$\\mathbf{w}=\\arg\\min MSE_{\\mathcal{D}_{train}}$$\n",
    "\n",
    "\n",
    "- MSE on the train set $\\mathcal{D}_{train}$ denoted as $\\left(\\mathbf{X},\\mathbf{y}\\right)$ including m samples $\\left\\{\\left(\\mathbf{x}_1,y_1\\right),\\left(\\mathbf{x}_2,y_2\\right),...\\left(\\mathbf{x}_m,y_m\\right)\\right\\}$"
   ]
  },
  {
   "cell_type": "markdown",
   "metadata": {
    "id": "GTOZj7HfFpyY"
   },
   "source": [
    "$$MSE\\left(X,h_{\\mathbf{w}}\\right)=\\dfrac{1}{m}\\sum_{i=1}^{m}\\left(\\mathbf{w}^T\\cdot\\mathbf{x}_i - y_i\\right )^2$$\n",
    "$$MSE\\left(X,h_{\\mathbf{w}}\\right)=\\dfrac{1}{m}\\Vert\\mathbf{X}\\mathbf{w}-\\mathbf{y}\\Vert^2$$"
   ]
  },
  {
   "cell_type": "markdown",
   "metadata": {
    "id": "5wXM1_zDDlcc"
   },
   "source": [
    "Example below is a plot of an MSE function where the true target value is 100, and the predicted values range between -10,000 to 10,000. The MSE loss (Y-axis) reaches its minimum value at prediction (X-axis) = 100. The range is 0 to ∞.\n",
    "![Plot of MSE Loss (Y-axis) vs. Predictions (X-axis)](MSE.png)"
   ]
  },
  {
   "cell_type": "markdown",
   "metadata": {
    "id": "ORU-9tCxFpyZ"
   },
   "source": [
    "- To find the value of $\\mathbf{w}$ that minimizes the MSE cost function, the most common way (*we have known since high school*) is to solve the derivative (gradient) equation. \n",
    "$$\\mathbf{\\hat{w}}=\\left(\\mathbf{X}^T  \\mathbf{X}\\right)^{\\dagger}  \\mathbf{X}^T  \\mathbf{y}$$\n",
    "  - $\\mathbf{\\hat{w}}$ is the value of $\\mathbf{w}$ that minimizes the cost function\n",
    "  - **Notice that** $\\mathbf{X}^T  \\mathbf{X}$ is not always invertible. $\\left(\\mathbf{X}^T  \\mathbf{X}\\right)^{\\dagger}$ is pseudo-inverse of $\\left(\\mathbf{X}^T \\mathbf{X}\\right)$ - a general case of inverse when the matrix is not invertible or not even square."
   ]
  },
  {
   "cell_type": "markdown",
   "metadata": {
    "id": "6Tgy-tRYFpyZ"
   },
   "source": [
    "### 3. Implementation "
   ]
  },
  {
   "cell_type": "markdown",
   "metadata": {
    "id": "qauCdk7LFpya"
   },
   "source": [
    "#### Import Library"
   ]
  },
  {
   "cell_type": "code",
   "execution_count": 1,
   "metadata": {
    "id": "70Mis-p9Fpyd"
   },
   "outputs": [],
   "source": [
    "import numpy as np\n",
    "import matplotlib.pyplot as plt \n",
    "import sklearn.datasets as datasets\n",
    "%matplotlib inline"
   ]
  },
  {
   "cell_type": "markdown",
   "metadata": {
    "id": "nRr06hARFpyk"
   },
   "source": [
    "#### Create data"
   ]
  },
  {
   "cell_type": "code",
   "execution_count": 2,
   "metadata": {
    "id": "g0K3G_SOFpyk"
   },
   "outputs": [],
   "source": [
    "X,y=datasets.make_regression(n_samples=100,n_features=1, noise=5, random_state=42)"
   ]
  },
  {
   "cell_type": "markdown",
   "metadata": {
    "id": "vBFWzeY3Fpyp"
   },
   "source": [
    "#### Load and visualize data"
   ]
  },
  {
   "cell_type": "code",
   "execution_count": 3,
   "metadata": {
    "id": "4BpxLtG3Fpyq"
   },
   "outputs": [
    {
     "data": {
      "image/png": "[encoded data removed]",
      "text/plain": [
       "<Figure size 432x288 with 1 Axes>"
      ]
     },
     "metadata": {
      "needs_background": "light"
     },
     "output_type": "display_data"
    }
   ],
   "source": [
    "# Visualize data \n",
    "\n",
    "plt.plot(X, y, 'ro')\n",
    "plt.show()\n"
   ]
  },
  {
   "cell_type": "markdown",
   "metadata": {
    "id": "PLDAEVR8Fpyx"
   },
   "source": [
    "**TODO:** \n",
    "\n",
    "- Your observation about data:\n",
    "    - Theo hàm khởi tạo dữ liệu, thì bộ dữ liệu này có 100 mẫu với độ lệch chuẩn của độ nhiễu gaussian thấp áp dụng cho đầu ra (y) là 5.\n",
    "    - Biến độc lập x và biến phụ thuộc y của bộ dữ liệu có mối quan hệ tuyến tính cao.\n",
    "    - Các điểm dữ liệu trên đồ thị có độ phân tán thấp, phân bố theo hình dạng tuyến tính."
   ]
  },
  {
   "cell_type": "markdown",
   "metadata": {
    "id": "mrb7peM1Fpyz"
   },
   "source": [
    "#### Training function"
   ]
  },
  {
   "cell_type": "code",
   "execution_count": 4,
   "metadata": {
    "id": "DdPXTgoAFpyz"
   },
   "outputs": [],
   "source": [
    "def train_linear_regression(X, y):\n",
    "    '''\n",
    "    Trains Linear Regression on the dataset (X, y).\n",
    "    \n",
    "    Parameters\n",
    "    ----------\n",
    "    X : numpy array, shape (m, d + 1)\n",
    "        The matrix of input vectors (each row corresponds to an input vector); \n",
    "        the first column of this matrix is all ones (corresponding to x_0).\n",
    "    y : numpy array, shape (m, 1)\n",
    "        The vector of outputs.\n",
    "    \n",
    "    Returns\n",
    "    -------\n",
    "    w : numpy array, shape (d + 1, 1)\n",
    "        The vector of parameters of Linear Regression after training.\n",
    "    '''\n",
    "    # TODO\n",
    "    #Thực hiện công thức tính w được cho ở lý thuyết bên trên\n",
    "    #T: ký hiệu ma trận chuyển vị\n",
    "    #_inv: ký hiệu ma trận khả nghịch\n",
    "    XTX=X.T.dot(X)\n",
    "    XTX_inv=np.linalg.inv(XTX) #Lấy khả nghịch của ma trận XTX\n",
    "    \n",
    "    w=XTX_inv.dot(X.T).dot(y)\n",
    "    return w"
   ]
  },
  {
   "cell_type": "code",
   "execution_count": 5,
   "metadata": {
    "id": "wDgQ-5EDFpy5"
   },
   "outputs": [
    {
     "name": "stdout",
     "output_type": "stream",
     "text": [
      "one_added_X.shape = (100, 2)\n",
      "y.shape = (100,)\n"
     ]
    }
   ],
   "source": [
    "# Construct one_added_X \n",
    "# TODO:\n",
    "# First column of one_added_X is all ones (corresponding to x_0).\n",
    "ones = np.ones(X.shape[0])\n",
    "one_added_X=np.column_stack([ones, X])\n",
    "print ('one_added_X.shape =', one_added_X.shape)\n",
    "print ('y.shape =', y.shape)\n"
   ]
  },
  {
   "cell_type": "markdown",
   "metadata": {
    "id": "nVhd2dvCFpzE"
   },
   "source": [
    "#### Train our model and visualize result"
   ]
  },
  {
   "cell_type": "code",
   "execution_count": 6,
   "metadata": {
    "id": "y3YvmkEEFpzE"
   },
   "outputs": [
    {
     "data": {
      "text/plain": [
       "(-2.8433462685196784, 2.075879348938872)"
      ]
     },
     "execution_count": 6,
     "metadata": {},
     "output_type": "execute_result"
    },
    {
     "data": {
      "image/png": "[encoded data removed]",
      "text/plain": [
       "<Figure size 432x288 with 1 Axes>"
      ]
     },
     "metadata": {
      "needs_background": "light"
     },
     "output_type": "display_data"
    }
   ],
   "source": [
    "w = train_linear_regression(one_added_X, y)\n",
    "\n",
    "# Visualize result\n",
    "predicted_ys = one_added_X.dot(w)\n",
    "\n",
    "plt.plot(X,y,'ro')\n",
    "\n",
    "x_min, x_max = plt.xlim()\n",
    "xs = np.array([x_min, x_max]).reshape(-1, 1)\n",
    "\n",
    "# Construct one_added_xs \n",
    "# TODO:\n",
    "# First column of one_added_xs is all ones (corresponding to x_0).\n",
    "ones = np.ones(xs.shape[0])\n",
    "ones_added_xs=np.column_stack([ones, xs])\n",
    "\n",
    "predicted_ys = ones_added_xs.dot(w)\n",
    "plt.plot(xs, predicted_ys)\n",
    "plt.xlim(x_min, x_max)\n"
   ]
  },
  {
   "cell_type": "markdown",
   "metadata": {
    "id": "lTO6ilruFpzH"
   },
   "source": [
    "- **TODO**: Discuss about advantages and disadvantages of `Linear Regression`:\n",
    "\n",
    "| Advantages | Disadvantages |\n",
    "| :- | -: |\n",
    "| Về mặt lí thuyết các mô hình hồi quy tuyến tính dễ hiểu hơn những loại mô hình khác vì chúng được xây dựng dựa trên các nguyên tắc thống kê cơ bản: hệ số tương quan giữa các biến, lỗi bình phương trung bình,...|Mô hình hoạt động hiệu quả với các bộ dữ liệu chứa các giá trị số (numeric) chứ không phù hợp với các bộ dữ liệu chứa các biến phân loại (categorical)|\n",
    "| Mô hình đơn giản dễ cài đặt và giải thích. Việc đào tạo mô hình dễ đạt hiệu quả cao nhờ việc tinh chỉnh các siêu tham số | Không hoạt động tốt nếu dữ liệu chứa các điểm ngoại lệ (outliers), dữ liệu phân bố lộn xộn, phi tuyến tính. Khi đó hồi quy tuyến tính cố gắng tìm ra đường thẳng phù hợp nhất với bộ dữ liệu, dễ dẫn đến hiện tượng underfitting |\n",
    "| Hiệu quả đào tạo cao trên dữ liệu có biến độc lập và biến phụ thuộc có mối quan hệ tuyến tính | Có nhiều cách tránh tình trạng overfitting nhưng trong hồi quy tuyến tính đa biến lại rất dễ rơi vào tình trạng overfitting|\n",
    "| Có nhiều phương pháp để tránh được tình trạng overfitting: regularization, cross validation,..."
   ]
  },
  {
   "cell_type": "markdown",
   "metadata": {
    "id": "ocxeCj9kEIHX"
   },
   "source": [
    "## Decision Tree"
   ]
  },
  {
   "cell_type": "markdown",
   "metadata": {
    "id": "0woNUwnsEYLG"
   },
   "source": [
    "### 1. Import Library"
   ]
  },
  {
   "cell_type": "code",
   "execution_count": 7,
   "metadata": {
    "id": "szAMv4OMD7hY"
   },
   "outputs": [],
   "source": [
    "import matplotlib.pyplot as plt\n",
    "from sklearn import datasets\n",
    "import pandas as pd\n",
    "import numpy as np\n",
    "from sklearn.metrics import accuracy_score"
   ]
  },
  {
   "cell_type": "markdown",
   "metadata": {
    "id": "oPi8pVmYEffr"
   },
   "source": [
    "### 2. Load Iris dataset"
   ]
  },
  {
   "cell_type": "code",
   "execution_count": 8,
   "metadata": {
    "id": "4k11PMVJEbaB"
   },
   "outputs": [],
   "source": [
    "from sklearn.model_selection import train_test_split\n",
    "iris=datasets.load_iris()\n",
    "\n",
    "X=iris.data\n",
    "y=iris.target\n",
    "\n",
    "#split dataset into training data and testing data\n",
    "X_train,X_test,y_train,y_test=train_test_split(X,y,test_size=0.33, random_state=42)"
   ]
  },
  {
   "cell_type": "markdown",
   "metadata": {
    "id": "KQkTy3NdEi6F"
   },
   "source": [
    "### 3. Decision Tree: Iterative Dichotomiser 3 (ID3)"
   ]
  },
  {
   "cell_type": "markdown",
   "metadata": {
    "id": "y-Lew9FgEsER"
   },
   "source": [
    "#### 3.1 Information Gain"
   ]
  },
  {
   "cell_type": "markdown",
   "metadata": {
    "id": "8trBjGfkEv8l"
   },
   "source": [
    "Expected value of the self-information (entropy):"
   ]
  },
  {
   "cell_type": "markdown",
   "metadata": {
    "id": "sGuAljLcEyH9"
   },
   "source": [
    "$$Entropy=-\\sum_{i}^{n}p_ilog_{2}(p_i)$$"
   ]
  },
  {
   "cell_type": "markdown",
   "metadata": {
    "id": "HL49SURpE1Qi"
   },
   "source": [
    "The entropy function gets the smallest value if there is a value of $p_i$ equal to 1, reaches the maximum value if all $ p_i $ are equal. These properties of the entropy function make it is an expression of the disorder, or randomness of a system, ..."
   ]
  },
  {
   "cell_type": "code",
   "execution_count": 9,
   "metadata": {
    "id": "x4DF6EDjE06Y"
   },
   "outputs": [],
   "source": [
    "def entropy(counts, n_samples):\n",
    "    \"\"\"\n",
    "    Parameters:\n",
    "    -----------\n",
    "    counts: shape (n_classes): list number of samples in each class (list số lượng mẫu mỗi lớp)\n",
    "    n_samples: number of data samples (số lượng mẫu của bộ dữ liệu)\n",
    "    \n",
    "    -----------\n",
    "    return entropy \n",
    "    \"\"\"\n",
    "\n",
    "    #TODO\n",
    "    entropy=0.0\n",
    "    for i in counts:\n",
    "        pi=float(i/n_samples)\n",
    "        entropy=entropy-pi*np.log2(pi)\n",
    "    \n",
    "    return entropy\n",
    "    \n",
    "    \"\"\"\n",
    "    #TODO\n",
    "    temp=[-(i/n_samples)*np.log2(i/n_samples) for i in counts]\n",
    "    temp=np.array(temp)\n",
    "    return temp.sum()\n",
    "    \"\"\""
   ]
  },
  {
   "cell_type": "code",
   "execution_count": 10,
   "metadata": {
    "id": "c8sW9chQEnbb"
   },
   "outputs": [],
   "source": [
    "def entropy_of_one_division(division): \n",
    "    \"\"\"\n",
    "    Returns entropy of a divided group of data\n",
    "    Data may have multiple classes\n",
    "    \"\"\"\n",
    "    n_samples = len(division)\n",
    "    n_classes = set(division)\n",
    "    \n",
    "    counts=[]\n",
    "    #count samples in each class then store it to list counts\n",
    "    #TODO:\n",
    "    for i in n_classes:\n",
    "        count=0\n",
    "        for j in division:\n",
    "            if i==j:\n",
    "                count+=1\n",
    "        counts.append(count)\n",
    "    return entropy(counts,n_samples),n_samples\n",
    "\n",
    "def get_entropy(y_predict, y):\n",
    "    \"\"\"\n",
    "    Returns entropy of a split\n",
    "    y_predict is the split decision by cutoff, True/Fasle\n",
    "    \"\"\"\n",
    "    n = len(y)\n",
    "    entropy_true, n_true = entropy_of_one_division(y[y_predict]) # left hand side entropy\n",
    "    entropy_false, n_false = entropy_of_one_division(y[~y_predict]) # right hand side entropy\n",
    "    # overall entropy\n",
    "    #TODO s=?\n",
    "    s=float(n_true/n)*entropy_true+float(n_false/n)*entropy_false\n",
    "    return s"
   ]
  },
  {
   "cell_type": "markdown",
   "metadata": {
    "id": "BGY4epqQFDb9"
   },
   "source": [
    "The information gain of classifying information set D by attribute A:\n",
    "$$ Gain(A)=Entrophy(D)-Entrophy_{A}(D)$$\n",
    "\n",
    "At each node in ID3, an attribute is chosen if its information gain is highest compare to others.\n",
    "\n",
    "All attributes of the Iris set are represented by continuous values. Therefore we need to represent them with discrete values. The simple way is to use a `cutoff` threshold to separate values of the data on each attribute into two part:` <cutoff` and `> = cutoff`.\n",
    "\n",
    "To find the best `cutoff` for an attribute, we replace` cutoff` with its values then compute the entropy, best `cutoff` achieved when value of entropy is smallest  $ \\left (\\arg \\min Entrophy_ {A} (D) \\right) $."
   ]
  },
  {
   "cell_type": "markdown",
   "metadata": {
    "id": "oXfxtxmqFGqr"
   },
   "source": [
    "#### 3.2 Decision tree"
   ]
  },
  {
   "cell_type": "code",
   "execution_count": 11,
   "metadata": {
    "id": "jneJVFZhFDtl"
   },
   "outputs": [],
   "source": [
    "class DecisionTreeClassifier:\n",
    "    def __init__(self, tree=None, depth=0):\n",
    "        '''Parameters:\n",
    "        -----------------\n",
    "        tree: decision tree\n",
    "        depth: depth of decision tree after training'''\n",
    "        \n",
    "        self.depth = depth\n",
    "        self.tree=tree\n",
    "    def fit(self, X, y, node={}, depth=0):\n",
    "        '''Parameter:\n",
    "        -----------------\n",
    "        X: training data\n",
    "        y: label of training data\n",
    "        ------------------\n",
    "        return: node \n",
    "        \n",
    "        node: each node represented by cutoff value and column index, value and children.\n",
    "         - cutoff value is thresold where you divide your attribute\n",
    "         - column index is your data attribute index\n",
    "         - value of node is mean value of label indexes, \n",
    "           if a node is leaf all data samples will have same label\n",
    "        \n",
    "        Note that: we divide each attribute into 2 part => each node will have 2 children: left, right.\n",
    "        '''\n",
    "        \n",
    "        #Stop conditions\n",
    "        \n",
    "        #if all value of y are the same \n",
    "        if np.all(y==y[0]):\n",
    "            return {'val':y[0]}\n",
    "\n",
    "        else: \n",
    "            col_idx, cutoff, entropy = self.find_best_split_of_all(X, y)    # find one split given an information gain \n",
    "            y_left = y[X[:, col_idx] < cutoff]\n",
    "            y_right = y[X[:, col_idx] >= cutoff]\n",
    "            node = {'index_col':col_idx,\n",
    "                        'cutoff':cutoff,\n",
    "                   'val':np.mean(y)}\n",
    "            node['left'] = self.fit(X[X[:, col_idx] < cutoff], y_left, {}, depth+1)\n",
    "            node['right'] = self.fit(X[X[:, col_idx] >= cutoff], y_right, {}, depth+1)\n",
    "            self.depth += 1 \n",
    "            self.tree = node\n",
    "            return node\n",
    "    \n",
    "    def find_best_split_of_all(self, X, y):\n",
    "        col_idx = None\n",
    "        min_entropy = 1\n",
    "        cutoff = None\n",
    "        for i, col_data in enumerate(X.T):\n",
    "            entropy, cur_cutoff = self.find_best_split(col_data, y)\n",
    "            if entropy == 0:                   #best entropy\n",
    "                return i, cur_cutoff, entropy\n",
    "            elif entropy <= min_entropy: #cập nhật min_entropy nếu nó là giá trị tôt\n",
    "                min_entropy = entropy\n",
    "                col_idx = i\n",
    "                cutoff = cur_cutoff\n",
    "               \n",
    "        return col_idx, cutoff, min_entropy\n",
    "    \n",
    "    def find_best_split(self, col_data, y):\n",
    "        ''' Parameters:\n",
    "        -------------\n",
    "        col_data: data samples in column'''\n",
    "         \n",
    "        min_entropy = 10\n",
    "\n",
    "        #Loop through col_data find cutoff where entropy is minimum\n",
    "        \n",
    "        for value in set(col_data):\n",
    "            y_predict = col_data < value\n",
    "            my_entropy = get_entropy(y_predict, y)\n",
    "            #TODO\n",
    "            #min entropy=?, cutoff=?\n",
    "            if my_entropy<=min_entropy:\n",
    "                min_entropy=my_entropy\n",
    "                cutoff=value\n",
    "            \n",
    "        return min_entropy, cutoff\n",
    "                                               \n",
    "    def predict(self, X):\n",
    "        tree = self.tree\n",
    "        pred = np.zeros(shape=len(X))\n",
    "        for i, c in enumerate(X):\n",
    "            pred[i] = self._predict(c)\n",
    "        return pred\n",
    "    \n",
    "    def _predict(self, row):\n",
    "        cur_layer = self.tree\n",
    "        while cur_layer.get('cutoff'):\n",
    "            if row[cur_layer['index_col']] < cur_layer['cutoff']:\n",
    "                cur_layer = cur_layer['left']\n",
    "            else:\n",
    "                cur_layer = cur_layer['right']\n",
    "        else:\n",
    "            return cur_layer.get('val')"
   ]
  },
  {
   "cell_type": "markdown",
   "metadata": {
    "id": "IGSI_4cjFLnI"
   },
   "source": [
    "#### 3.3 Classification on Iris Dataset"
   ]
  },
  {
   "cell_type": "code",
   "execution_count": 12,
   "metadata": {
    "id": "rJh76UyGFOFV"
   },
   "outputs": [
    {
     "name": "stdout",
     "output_type": "stream",
     "text": [
      "Accuracy of your decision tree model on training data: 1.0\n",
      "Accuracy of your decision tree model: 0.96\n"
     ]
    }
   ],
   "source": [
    "model = DecisionTreeClassifier()\n",
    "tree = model.fit(X_train, y_train)\n",
    "pred=model.predict(X_train)\n",
    "print('Accuracy of your decision tree model on training data:', accuracy_score(y_train,pred))\n",
    "pred=model.predict(X_test)\n",
    "print('Accuracy of your decision tree model:', accuracy_score(y_test,pred))\n"
   ]
  },
  {
   "cell_type": "markdown",
   "metadata": {
    "id": "Vo-xgbEGFeZI"
   },
   "source": [
    "**TODO**: F1, Recall and Precision report\n",
    "\n",
    "### Giới thiệu\n",
    "Khi đã xây dựng một mô hình machine learning và huấn luyện nó trên một tập dữ liệu, điều tiếp theo chúng ta cần làm là đánh giá hiệu năng của mô hình trên tập dữ liệu mới.\n",
    "\n",
    "Khi thực hiện bài toán phân loại (classification), có 4 trường hợp của dự đoán có thể xảy ra:\n",
    "\n",
    "- **True Positive**: đối tượng ở lớp Positive, mô hình phân đối tượng vào lớp Positive (dự đoán đúng)\n",
    "- **True Negative**: đối tượng ở lớp Negative, mô hình phân đối tượng vào lớp Negative (dự đoán đúng)\n",
    "- **False Positive**: đối tượng ở lớp Negative, mô hình phân đối tượng vào lớp Positive (dự đoán sai)\n",
    "- **False Negative**: đối tượng ở lớp Positive, mô hình phân đối tượng vào lớp Negative (dự đoán sai)\n",
    "\n",
    "**Precision (độ chuẩn xác)**, **Recall (độ phủ)**, **F1** là các metric dùng để đánh giá hiệu quả của một mô hình học máy khi giải quyết các bài toán phân loại (classification), đặc biệt là các bài toán phân loại với các lớp có số lượng mẫu chênh lệch nhau nhiều. Mỗi metric sẽ có ý nghĩa và cách tính khác nhau.\n",
    "\n",
    "\n",
    "### Bài toán đặt ra\n",
    "\n",
    "Ở đây ta sẽ đưa ra một bài toán phân loại nhị phân để minh họa cho vai trò của các metric trên. Một bài toán đặt ra là: **Căn cứ vào các triệu chứng biểu hiện của một người, mô hình máy học phải xác định xem người đó có mắc covid 19 hay không?**\n",
    "\n",
    "**Quy ước nhãn:**\n",
    "- 1 (positive): dương tính với covid 19\n",
    "- 0 (negative): âm tính với covid 19\n",
    "\n",
    "**Quy ước các ký hiệu**:\n",
    "- TP (True Positive): Trường hợp dự đoán đúng mẫu dương tính.\n",
    "- FP (False Positive): Trường hợp dự đoán sai mẫu dương tính.\n",
    "- TN (True Negative): Trường hợp dự đoán đúng mẫu âm tính.\n",
    "- FN (False Negative): Trường hợp dự đoán sai mẫu âm tính.\n",
    "\n",
    "**Giả sử:**\n",
    "\n",
    "Ta có tổng số mẫu khảo sát là 1000 mẫu (tương ứng với 1000 người) trong đó chính xác có 900 mẫu âm tính và 100 mẫu là dương tính. Sau khi đưa qua mô hình phân loại kết quả mô hình cho ra như sau:\n",
    "\n",
    "![img](https://raw.githubusercontent.com/ntclai/EDA-World-Population/main/Untitled3.png)\n",
    "\n",
    "\n",
    "**Đánh giá:**\n",
    "\n",
    "$$Accuracy = \\frac{TP+TN}{TP + FP + TN + FN} = \\frac{40 + 880}{60 + 40 + 20 + 880} = 0.92 $$\n",
    "\n",
    "Mô hình này có thể dự đoán đúng đến 92% (có nghĩa là trong số 100 mẫu thì có 92 mẫu được phân loại chính xác). Đây có lẽ là độ chính xác cao, nhưng liệu nó có thật sự tốt hay không?\n",
    "\n",
    "Một vấn đề nghiêm trọng ta nhận thấy là số ca dương tính mà mô hình phát hiện chỉ chiếm 40% tổng số ca nhiễm mà trong bài toán này việc xác định đúng mẫu dương tính là vấn đề cực kỳ quan trọng vì nó liên quan đến sức khỏe cả cộng đồng. Do đó Accuracy tuy cao nhưng là vô nghĩa khi dùng để đánh giá cho mô hình có bộ dữ liệu bị hiện tượng mất cân bằng (các lớp có số lượng mẫu chênh lệch nhau nhiều) và mức quan trọng của các lớp là khác nhau.\n",
    "\n",
    "### Hướng giải quyết\n",
    "Các metric:  F1, Precision và Recall được sử dụng để khắc phục vấn đề trên. Bảng sau sẽ trình bày tóm tắt về các metric này:\n",
    "\n",
    "![img](https://raw.githubusercontent.com/ntclai/EDA-World-Population/main/Untitled4.png)\n",
    "\n",
    "### Nhận xét\n",
    "**Precision (Độ chuẩn xác)**: độ chuẩn xác càng cao thì mô hình sẽ dự đoán càng tốt cho các mẫu thuộc lớp positive.\n",
    "\n",
    "- Ví dụ: với Precision = 0,9 có nghĩa là mô hình dự đoán đúng 90 mẫu trong 100 mẫu mô hình dự đoán là positive.\n",
    "\n",
    "**Recall (Độ phủ)**: cho biết mức độ bỏ sót các mẫu thuộc lớp positive của mô hình. Recall càng cao chứng tỏ mô hình bỏ sót rất ít các mẫu thuộc lớp positive. Recall cũng có ý nghĩa gần tương tự như Precision, có cùng tử số nhưng có một chút khác biệt về mẫu số trong công thức tính toán.\n",
    "\n",
    "- Ví dụ: với Recall = 0,9 có nghĩa là mô hình dự đoán đúng 90 mẫu trong 100 mẫu thực sự là positive.\n",
    "\n",
    "**Trade off giữa Precision và Recall**: \n",
    "- Trong thực tế một mô hình phân loại nhị phân lý tưởng là khi có Precision và Recall cao (càng gần 1 càng tốt), tuy nhiên điều này là rất khó xảy ra. Thường sảy ra trường hợp Precision cao, Recall thấp hoặc Precision thấp, Recall cao. Khi đó rất khó để lựa chọn đâu là một mô hình tốt vì không biết rằng nên đánh giá theo Precision hay Recall. \n",
    "- Sự đánh đổi này thường xuyên diễn ra trong các bộ dữ liệu thực tế do đó cần tìm cách kết hợp cả Precision và Recall tạo ra một độ đo mới và đó chính là F1.\n",
    "\n",
    "**F1**: Xét thấy giá trị F1 được tính bằng cách sử dụng trung bình điều hòa, giá trị F1 luôn nằm trong khoảng của Precision và Recall. Do đó F1 sẽ phạt nặng hơn những trường hợp mô hình có Precision thấp, Recall cao hoặc Precision cao, Recall thấp. Đây là những trường hợp tương đương với dự báo thiên về một nhóm là positive hoặc negative nên không phải là mô hình tốt. Điểm số từ trung bình điều hòa sẽ giúp ta nhận biết được những trường hợp không tốt như vậy.\n"
   ]
  }
 ],
 "metadata": {
  "colab": {
   "provenance": []
  },
  "kernelspec": {
   "display_name": "Python 3 (ipykernel)",
   "language": "python",
   "name": "python3"
  },
  "language_info": {
   "codemirror_mode": {
    "name": "ipython",
    "version": 3
   },
   "file_extension": ".py",
   "mimetype": "text/x-python",
   "name": "python",
   "nbconvert_exporter": "python",
   "pygments_lexer": "ipython3",
   "version": "3.10.0"
  }
 },
 "nbformat": 4,
 "nbformat_minor": 4
}
